{
 "cells": [
  {
   "cell_type": "code",
   "execution_count": 15,
   "metadata": {
    "slideshow": {
     "slide_type": "slide"
    }
   },
   "outputs": [],
   "source": [
    "from __future__ import print_function\n",
    "import sys\n",
    "import cv2\n",
    "import tracker \n",
    "from utils import select_bounding_box\n",
    "from video_read_thread import FileVideoStream\n",
    "import time\n",
    "import imutils\n",
    "from random import randint"
   ]
  },
  {
   "cell_type": "code",
   "execution_count": 20,
   "metadata": {},
   "outputs": [],
   "source": [
    "detection_model_path = 'haarcascade_files/haarcascade_frontalface_default.xml'\n",
    "face_detection = cv2.CascadeClassifier(detection_model_path)\n",
    "\n",
    "def get_faces_from_haar(frame):\n",
    "    bboxes=[]\n",
    "    colors=[]\n",
    "    frame=imutils.resize(frame,width=500)\n",
    "    gray=cv2.cvtColor(frame,cv2.COLOR_BGR2GRAY)\n",
    "    colors.append((randint(0, 255), randint(0, 255), randint(0, 255)))\n",
    "    faces=face_detection.detectMultiScale(gray,scaleFactor=1.1,minNeighbors=5,minSize=(30,30),flags=cv2.CASCADE_SCALE_IMAGE)\n",
    "    print(len(faces),\" faces found in the frame\")\n",
    "    if len(faces)>0:\n",
    "        for face in faces:\n",
    "            (x,y,w,h) = faces[0]\n",
    "            bboxes.append((x,y,w,h))\n",
    "    return bboxes,colors"
   ]
  },
  {
   "cell_type": "code",
   "execution_count": 21,
   "metadata": {},
   "outputs": [],
   "source": [
    "# Set video to load\n",
    "videoPath = r\"C:/Users/HP/Downloads/VID20200314183342.mp4\"\n",
    "# Create a video capture object to read videos\n",
    "cap=FileVideoStream(videoPath).start() \n",
    "# Read first frame\n",
    "success, frame = cap.read()\n",
    "# quit if unable to read the video file\n",
    "time.sleep(1.0)\n",
    "#if not success:\n",
    "#    print('Failed to read video')\n",
    "#    sys.exit(1)"
   ]
  },
  {
   "cell_type": "code",
   "execution_count": 22,
   "metadata": {},
   "outputs": [
    {
     "name": "stdout",
     "output_type": "stream",
     "text": [
      "0  faces found in the frame\n",
      "Tracker Created ...\n"
     ]
    }
   ],
   "source": [
    "#bboxes,colors=select_bounding_box(frame)\n",
    "bboxes,colors=get_faces_from_haar(frame)\n",
    "multiTracker = tracker.create_multiTracker(bboxes,frame)"
   ]
  },
  {
   "cell_type": "code",
   "execution_count": 19,
   "metadata": {},
   "outputs": [],
   "source": [
    "# Process video and track objects\n",
    "while cap.more():\n",
    "    success, frame = cap.read()\n",
    "    if not success:\n",
    "        break\n",
    "# get updated location of objects in subsequent frames\n",
    "    success, boxes = multiTracker.update(frame)\n",
    "# draw tracked objects\n",
    "    for i, newbox in enumerate(boxes):\n",
    "        p1 = (int(newbox[0]), int(newbox[1]))\n",
    "        p2 = (int(newbox[0] + newbox[2]), int(newbox[1] + newbox[3]))\n",
    "        cv2.rectangle(frame, p1, p2, colors[i], 2, 1)\n",
    "# show frame\n",
    "    cv2.imshow('MultiTracker', frame)\n",
    "# quit on ESC button\n",
    "    if cv2.waitKey(1) & 0xFF == ord('q'):  # Esc pressed\n",
    "        break\n",
    "cap.stop()\n",
    "cv2.destroyAllWindows()"
   ]
  },
  {
   "cell_type": "code",
   "execution_count": null,
   "metadata": {},
   "outputs": [],
   "source": []
  }
 ],
 "metadata": {
  "kernelspec": {
   "display_name": "Python 3",
   "language": "python",
   "name": "python3"
  },
  "language_info": {
   "codemirror_mode": {
    "name": "ipython",
    "version": 3
   },
   "file_extension": ".py",
   "mimetype": "text/x-python",
   "name": "python",
   "nbconvert_exporter": "python",
   "pygments_lexer": "ipython3",
   "version": "3.6.10"
  }
 },
 "nbformat": 4,
 "nbformat_minor": 2
}
